{
 "cells": [
  {
   "cell_type": "markdown",
   "metadata": {
    "slideshow": {
     "slide_type": "subslide"
    }
   },
   "source": [
    "Project Name:\n",
    "\n",
    "Student Grade Management System\n"
   ]
  },
  {
   "cell_type": "markdown",
   "metadata": {},
   "source": [
    "Objective:\n",
    "To create a command-line application that allows users to:\n",
    "\n",
    "Add student details (name, roll number, and grades).\n",
    "\n",
    "Calculate average grades.\n",
    "\n",
    "Display students' details.\n",
    "\n",
    "Save and retrieve data from a file.\n"
   ]
  },
  {
   "cell_type": "markdown",
   "metadata": {
    "slideshow": {
     "slide_type": "subslide"
    },
    "tags": [
     "parameters"
    ]
   },
   "source": [
    "It looks like there is a small typo in your script. The function clear_console has a misplaced space in the 'cle ar' command. This will cause an error when running the script. Here's the corrected version of the clear_console function:"
   ]
  },
  {
   "cell_type": "code",
   "execution_count": 1,
   "metadata": {},
   "outputs": [],
   "source": [
    "# Clear the console\n",
    "def clear_console():\n",
    "    os.system('cls' if os.name == 'nt' else 'clear')\n"
   ]
  },
  {
   "cell_type": "markdown",
   "metadata": {},
   "source": [
    "Updated Script\n",
    "Here's the corrected and ready-to-run version of your script:"
   ]
  },
  {
   "cell_type": "code",
   "execution_count": 2,
   "metadata": {},
   "outputs": [
    {
     "name": "stdout",
     "output_type": "stream",
     "text": [
      "=== Student Grade Management System ===\n",
      "1. Add Student\n",
      "2. Display Students\n",
      "3. Save Data\n",
      "4. Load Data\n",
      "5. Exit\n",
      "No student records found.\n",
      "=== Student Grade Management System ===\n",
      "1. Add Student\n",
      "2. Display Students\n",
      "3. Save Data\n",
      "4. Load Data\n",
      "5. Exit\n",
      "Invalid choice! Please try again.\n",
      "=== Student Grade Management System ===\n",
      "1. Add Student\n",
      "2. Display Students\n",
      "3. Save Data\n",
      "4. Load Data\n",
      "5. Exit\n",
      "Exiting the program. Goodbye!\n"
     ]
    }
   ],
   "source": [
    "import os\n",
    "\n",
    "# Clear the console\n",
    "def clear_console():\n",
    "    os.system('cls' if os.name == 'nt' else 'clear')\n",
    "\n",
    "# Data storage\n",
    "students = []\n",
    "\n",
    "# Add a new student\n",
    "def add_student():\n",
    "    name = input(\"Enter student's name: \")\n",
    "    roll_no = input(\"Enter roll number: \")\n",
    "    grades = input(\"Enter grades separated by spaces (e.g., 85 90 78): \")\n",
    "    grades = list(map(int, grades.split()))\n",
    "    students.append({\n",
    "        'name': name,\n",
    "        'roll_no': roll_no,\n",
    "        'grades': grades\n",
    "    })\n",
    "    print(\"Student added successfully!\")\n",
    "\n",
    "# Display all students\n",
    "def display_students():\n",
    "    if not students:\n",
    "        print(\"No student records found.\")\n",
    "        return\n",
    "    for idx, student in enumerate(students, 1):\n",
    "        print(f\"\\nStudent {idx}\")\n",
    "        print(f\"Name: {student['name']}\")\n",
    "        print(f\"Roll No: {student['roll_no']}\")\n",
    "        print(f\"Grades: {student['grades']}\")\n",
    "        print(f\"Average Grade: {sum(student['grades']) / len(student['grades']):.2f}\")\n",
    "\n",
    "# Save data to file\n",
    "def save_to_file():\n",
    "    with open(\"students_data.txt\", \"w\") as file:\n",
    "        for student in students:\n",
    "            file.write(f\"{student['name']},{student['roll_no']},{' '.join(map(str, student['grades']))}\\n\")\n",
    "    print(\"Data saved to 'students_data.txt'!\")\n",
    "\n",
    "# Load data from file\n",
    "def load_from_file():\n",
    "    try:\n",
    "        with open(\"students_data.txt\", \"r\") as file:\n",
    "            for line in file:\n",
    "                name, roll_no, grades = line.strip().split(\",\")\n",
    "                grades = list(map(int, grades.split()))\n",
    "                students.append({'name': name, 'roll_no': roll_no, 'grades': grades})\n",
    "        print(\"Data loaded successfully!\")\n",
    "    except FileNotFoundError:\n",
    "        print(\"No saved data found!\")\n",
    "\n",
    "# Main menu\n",
    "def main():\n",
    "    while True:\n",
    "        clear_console()\n",
    "        print(\"=== Student Grade Management System ===\")\n",
    "        print(\"1. Add Student\")\n",
    "        print(\"2. Display Students\")\n",
    "        print(\"3. Save Data\")\n",
    "        print(\"4. Load Data\")\n",
    "        print(\"5. Exit\")\n",
    "        choice = input(\"Enter your choice: \")\n",
    "        \n",
    "        if choice == '1':\n",
    "            add_student()\n",
    "        elif choice == '2':\n",
    "            display_students()\n",
    "        elif choice == '3':\n",
    "            save_to_file()\n",
    "        elif choice == '4':\n",
    "            load_from_file()\n",
    "        elif choice == '5':\n",
    "            print(\"Exiting the program. Goodbye!\")\n",
    "            break\n",
    "        else:\n",
    "            print(\"Invalid choice! Please try again.\")\n",
    "        input(\"\\nPress Enter to continue...\")\n",
    "\n",
    "# Run the application\n",
    "if __name__ == \"__main__\":\n",
    "    main()\n"
   ]
  },
  {
   "cell_type": "markdown",
   "metadata": {},
   "source": [
    "Features:\n",
    "\n",
    "Add students with their grades.\n",
    "\n",
    "Calculate and display average grades.\n",
    "\n",
    "Save and retrieve data from a file for future use."
   ]
  }
 ],
 "metadata": {
  "kernelspec": {
   "display_name": "Python 3",
   "language": "python",
   "name": "python3"
  },
  "language_info": {
   "codemirror_mode": {
    "name": "ipython",
    "version": 3
   },
   "file_extension": ".py",
   "mimetype": "text/x-python",
   "name": "python",
   "nbconvert_exporter": "python",
   "pygments_lexer": "ipython3",
   "version": "3.12.0"
  }
 },
 "nbformat": 4,
 "nbformat_minor": 2
}
